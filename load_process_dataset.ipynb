{
 "cells": [
  {
   "cell_type": "markdown",
   "metadata": {},
   "source": [
    "# Load and Process the Tufts Dataset"
   ]
  },
  {
   "cell_type": "code",
   "execution_count": null,
   "metadata": {},
   "outputs": [],
   "source": [
    "import cv2\n",
    "from tqdm import tqdm\n",
    "from pathlib import Path"
   ]
  },
  {
   "cell_type": "code",
   "execution_count": null,
   "metadata": {},
   "outputs": [],
   "source": [
    "dataset_path = 'face_dataset'\n",
    "resize_shape = (3072//50, 4608//50)\n",
    "\n",
    "X = []\n",
    "Y = []\n",
    "exps = []\n",
    "\n",
    "image_class_dirs = [dir for dir in Path(dataset_path).iterdir() if dir.is_dir()]\n",
    "\n",
    "for image_class_dir in tqdm(image_class_dirs):\n",
    "    image_files = [image_file for image_file in image_class_dir.iterdir() if image_file.is_file()]\n",
    "    for image_file in image_files:\n",
    "        img = cv2.imread(str(image_file), cv2.IMREAD_GRAYSCALE)\n",
    "        img = cv2.resize(img, resize_shape, interpolation=cv2.INTER_AREA)\n",
    "\n",
    "        y = int(image_class_dir.name)\n",
    "\n",
    "        exp = int(str(image_file).split('_')[-1][0])\n",
    "\n",
    "        X.append(img)\n",
    "        Y.append(y)\n",
    "        exps.append(exp)"
   ]
  },
  {
   "cell_type": "code",
   "execution_count": null,
   "metadata": {},
   "outputs": [],
   "source": [
    "data_dict = {'X': X, 'Y': Y, 'expressions': exps}\n",
    "np.save('tufts_face_dataset.npy', data_dict)"
   ]
  }
 ],
 "metadata": {
  "language_info": {
   "name": "python"
  },
  "orig_nbformat": 4
 },
 "nbformat": 4,
 "nbformat_minor": 2
}
