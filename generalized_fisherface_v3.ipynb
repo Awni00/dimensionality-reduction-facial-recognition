{
 "cells": [
  {
   "cell_type": "markdown",
   "metadata": {},
   "source": [
    "# Yet another attempt at implementing fisherface"
   ]
  },
  {
   "cell_type": "markdown",
   "metadata": {},
   "source": [
    "## Implementation"
   ]
  },
  {
   "cell_type": "code",
   "execution_count": 8,
   "metadata": {},
   "outputs": [],
   "source": [
    "# import warnings\n",
    "import numpy as np\n",
    "from scipy import linalg\n",
    "# from scipy.special import expit\n",
    "\n",
    "from sklearn.base import BaseEstimator, TransformerMixin, ClassifierMixin\n",
    "# from sklearn.linear_model._base import LinearClassifierMixin\n",
    "from sklearn.covariance import ledoit_wolf, empirical_covariance, shrunk_covariance\n",
    "from sklearn.utils.multiclass import unique_labels\n",
    "from sklearn.utils.validation import check_is_fitted\n",
    "# from sklearn.utils.multiclass import check_classification_targets\n",
    "# from sklearn.utils.extmath import softmax\n",
    "from sklearn.preprocessing import StandardScaler"
   ]
  },
  {
   "cell_type": "code",
   "execution_count": 88,
   "metadata": {},
   "outputs": [],
   "source": [
    "from sklearn.discriminant_analysis import _cov, _class_cov, _class_means\n",
    "\n",
    "# def _cov(X, shrinkage=None, covariance_estimator=None):\n",
    "#     \"\"\"Estimate covariance matrix (using optional covariance_estimator).\n",
    "#     Parameters\n",
    "#     \"\"\"\n",
    "#     if covariance_estimator is None:\n",
    "#         shrinkage = \"empirical\" if shrinkage is None else shrinkage\n",
    "#         if isinstance(shrinkage, str):\n",
    "#             if shrinkage == \"auto\":\n",
    "#                 sc = StandardScaler()  # standardize features\n",
    "#                 X = sc.fit_transform(X)\n",
    "#                 s = ledoit_wolf(X)[0]\n",
    "#                 # rescale\n",
    "#                 s = sc.scale_[:, np.newaxis] * s * sc.scale_[np.newaxis, :]\n",
    "#             elif shrinkage == \"empirical\":\n",
    "#                 s = empirical_covariance(X)\n",
    "#             else:\n",
    "#                 raise ValueError(\"unknown shrinkage parameter\")\n",
    "#         elif isinstance(shrinkage, float) or isinstance(shrinkage, int):\n",
    "#             if shrinkage < 0 or shrinkage > 1:\n",
    "#                 raise ValueError(\"shrinkage parameter must be between 0 and 1\")\n",
    "#             s = shrunk_covariance(empirical_covariance(X), shrinkage)\n",
    "#         else:\n",
    "#             raise TypeError(\"shrinkage must be a float or a string\")\n",
    "#     else:\n",
    "#         if shrinkage is not None and shrinkage != 0:\n",
    "#             raise ValueError(\n",
    "#                 \"covariance_estimator and shrinkage parameters \"\n",
    "#                 \"are not None. Only one of the two can be set.\"\n",
    "#             )\n",
    "#         covariance_estimator.fit(X)\n",
    "#         if not hasattr(covariance_estimator, \"covariance_\"):\n",
    "#             raise ValueError(\n",
    "#                 \"%s does not have a covariance_ attribute\"\n",
    "#                 % covariance_estimator.__class__.__name__\n",
    "#             )\n",
    "#         s = covariance_estimator.covariance_\n",
    "#     return s\n",
    "\n",
    "\n",
    "# def _class_means(X, y):\n",
    "#     \"\"\"Compute class means.\n",
    "#     \"\"\"\n",
    "#     classes, y = np.unique(y, return_inverse=True)\n",
    "#     cnt = np.bincount(y)\n",
    "#     means = np.zeros(shape=(len(classes), X.shape[1]))\n",
    "#     np.add.at(means, y, X)\n",
    "#     means /= cnt[:, None]\n",
    "#     return means\n",
    "\n",
    "\n",
    "# def _class_cov(X, y, priors, shrinkage=None, covariance_estimator=None):\n",
    "#     \"\"\"Compute weighted within-class covariance matrix.\n",
    "#     The per-class covariance are weighted by the class priors.\n",
    "#     \"\"\"\n",
    "#     classes = np.unique(y)\n",
    "#     cov = np.zeros(shape=(X.shape[1], X.shape[1]))\n",
    "#     for idx, group in enumerate(classes):\n",
    "#         Xg = X[y == group, :]\n",
    "#         cov += priors[idx] * np.atleast_2d(_cov(Xg, shrinkage, covariance_estimator))\n",
    "#     return cov\n"
   ]
  },
  {
   "cell_type": "code",
   "execution_count": null,
   "metadata": {},
   "outputs": [],
   "source": [
    "class FisherLD(BaseEstimator):\n",
    "    def __init__(self, n_components=None, shrinkage=None, priors=None):\n",
    "        \"\"\"Initialize Fisher's Linear Discriminant.\n",
    "\n",
    "        Args:\n",
    "            n_components (int, optional): number of components of projection.\n",
    "                maximum possible used if not provided. Defaults to None.\n",
    "            shrinkage (str, float, None): shrinkage for the covariance estimator.\n",
    "                'auto': (automatic shrinkage using Ledoit-Wolf lemma)\n",
    "                float: fixed shrinkage constant between 0 and 1 and\n",
    "                None: no shrinkage\n",
    "            priors (List[float], optional): class priors.\n",
    "                calculated automatically if not provided. Defaults to None.\n",
    "        \"\"\"\n",
    "\n",
    "        self.shrinkage = shrinkage\n",
    "        self.priors = priors\n",
    "        self.n_components = n_components\n",
    "\n",
    "    def _solve_eigen(self, X, y, shrinkage):\n",
    "        \"\"\"\n",
    "        Solve the generalized eigenvector problem.\n",
    "        Finds the generalized eigenvectors for the within-class and\n",
    "        between-class scatter matrix to find directions which maximize\n",
    "        separation between classes.\n",
    "\n",
    "        Args:\n",
    "            X (np.ndarray): training data of shape (n_samples, n_features)\n",
    "            y (List[int]): training labels of shape (n_samples,)\n",
    "            shrinkage (str, float, None): shrinkage for the covariance estimator.\n",
    "                'auto': (automatic shrinkage using Ledoit-Wolf lemma)\n",
    "                float: fixed shrinkage constant between 0 and 1 and\n",
    "                None: no shrinkage\n",
    "        \"\"\"\n",
    "\n",
    "        self.class_means_ = _class_means(X, y)\n",
    "        self.class_cov_ = _class_cov(\n",
    "            X, y, self.priors_, shrinkage, covariance_estimator=None\n",
    "        )\n",
    "\n",
    "\n",
    "        # TODO: can we implement this in such a way that the generalization *interpolates* between eigenface and fisherface!?\n",
    "        S_w = self.class_cov_  # within-class scatter matrix\n",
    "        S_t = _cov(X, shrinkage, covariance_estimator=None)  # total scatter matrix\n",
    "        S_b = S_t - S_w  # between-class scatter matrix\n",
    "\n",
    "        # solve generalized eigenvector problem\n",
    "        eigen_vals, eigen_vecs = linalg.eigh(S_b, S_w) # S_b v_i = lambda_i S_w v_i\n",
    "\n",
    "        # sort eigenvalues and eigenvectors\n",
    "        eigen_vals = np.sort(eigen_vals)[::-1]\n",
    "        eigen_vecs = eigen_vecs[:, np.argsort(eigen_vals)[::-1]]\n",
    "\n",
    "        self.eigen_vals_ = eigen_vals\n",
    "        self.eigen_vecs_ = eigen_vecs\n",
    "\n",
    "        # calculate the explained varaince ratio\n",
    "        self.explained_variance_ratio = eigen_vals[:self._max_components] / np.sum(eigen_vals)\n",
    "\n",
    "        # define transformation matrix\n",
    "        self.transformation_matrix_ = eigen_vecs\n",
    "\n",
    "\n",
    "    # NOTE: SVD solver seems to be much less prone to overfitting and doesn't require pca-first.\n",
    "    # TODO figure out why. perhaps implement (though it doesn't use within-class between-class scatter.)\n",
    "\n",
    "    def fit(self, X, y):\n",
    "        \"\"\"\n",
    "        Fit the fisher's linear discriminant model.\n",
    "\n",
    "        Args:\n",
    "            X (np.ndarray): training data of shape (n_samples, n_features)\n",
    "            y (List[int]): training labels of shape (n_samples,)\n",
    "\n",
    "        Returns:\n",
    "            self: Fitted estimator\n",
    "        \"\"\"\n",
    "\n",
    "        self.classes_ = unique_labels(y)\n",
    "        n_samples, dim = X.shape\n",
    "        n_classes = len(self.classes_)\n",
    "\n",
    "        if self.priors is None:  # estimate priors from sample\n",
    "            _, y_t = np.unique(y, return_inverse=True)  # non-negative ints\n",
    "            self.priors_ = np.bincount(y_t) / float(len(y))\n",
    "        else:\n",
    "            self.priors_ = np.asarray(self.priors)\n",
    "\n",
    "\n",
    "        # the maximum number of components possible\n",
    "        max_components = min(len(self.classes_) - 1, dim)\n",
    "\n",
    "        # if `n_components` is not specified, use largest possible\n",
    "        if self.n_components is None:\n",
    "            self._max_components = max_components\n",
    "\n",
    "        # if `n_components` is specified, check that it's valid\n",
    "        else:\n",
    "            if self.n_components > max_components:\n",
    "                raise ValueError(\n",
    "                    \"n_components cannot be larger than min(n_features, n_classes - 1).\"\n",
    "                )\n",
    "            self._max_components = self.n_components\n",
    "\n",
    "        # solve generalized eigenvector problem\n",
    "        self._solve_eigen( X, y, shrinkage=self.shrinkage)\n",
    "\n",
    "        return self\n",
    "\n",
    "    def transform(self, X):\n",
    "        \"\"\"\n",
    "        Project data to linear subspace which maximizes classs separation.\n",
    "\n",
    "        Args:\n",
    "            X (np.ndarray): input data of shape (n_samples, n_features)\n",
    "\n",
    "        Returns:\n",
    "            np.ndarray: transformed data.\n",
    "        \"\"\"\n",
    "\n",
    "        check_is_fitted(self) # only keep going model has already been fit\n",
    "\n",
    "        X_new = np.dot(X, self.transformation_matrix_)\n",
    "\n",
    "        return X_new[:, : self._max_components]"
   ]
  },
  {
   "cell_type": "code",
   "execution_count": 61,
   "metadata": {},
   "outputs": [],
   "source": [
    "# import warnings\n",
    "import numpy as np\n",
    "from scipy import linalg\n",
    "\n",
    "from sklearn.base import BaseEstimator, TransformerMixin, ClassifierMixin\n",
    "from sklearn.covariance import ledoit_wolf, empirical_covariance, shrunk_covariance\n",
    "from sklearn.utils.multiclass import unique_labels\n",
    "from sklearn.utils.validation import check_is_fitted\n",
    "from sklearn.preprocessing import StandardScaler\n",
    "\n",
    "from sklearn.discriminant_analysis import _cov, _class_cov, _class_means\n",
    "\n",
    "class GeneralizedFisherLD(BaseEstimator):\n",
    "    def __init__(self, n_components=None, alpha=0, shrinkage=None, priors=None):\n",
    "        \"\"\"Initialize Fisher's Linear Discriminant.\n",
    "\n",
    "        Args:\n",
    "            n_components (int, optional): number of components of projection.\n",
    "                maximum possible used if not provided. Defaults to None.\n",
    "            alpha (float, optional): alpha parameter in range [0,1].\n",
    "                interpolates between fisherface and eigenface.\n",
    "                0 corresponds to full fisherface, 1 corresponds to eigenface.\n",
    "            shrinkage (str, float, None): shrinkage for the covariance estimator.\n",
    "                'auto': (automatic shrinkage using Ledoit-Wolf lemma)\n",
    "                float: fixed shrinkage constant between 0 and 1 and\n",
    "                None: no shrinkage\n",
    "            priors (List[float], optional): class priors.\n",
    "                calculated automatically if not provided. Defaults to None.\n",
    "        \"\"\"\n",
    "\n",
    "        self.n_components = n_components\n",
    "        self.alpha = alpha\n",
    "        self.shrinkage = shrinkage\n",
    "        self.priors = priors\n",
    "\n",
    "    def _solve_eigen(self, X, y, shrinkage):\n",
    "        \"\"\"\n",
    "        Solve the generalized eigenvector problem.\n",
    "        Finds the generalized eigenvectors for the within-class and\n",
    "        between-class scatter matrix to find directions which maximize\n",
    "        separation between classes.\n",
    "\n",
    "        Args:\n",
    "            X (np.ndarray): training data of shape (n_samples, n_features)\n",
    "            y (List[int]): training labels of shape (n_samples,)\n",
    "            shrinkage (str, float, None): shrinkage for the covariance estimator.\n",
    "                'auto': (automatic shrinkage using Ledoit-Wolf lemma)\n",
    "                float: fixed shrinkage constant between 0 and 1 and\n",
    "                None: no shrinkage\n",
    "        \"\"\"\n",
    "\n",
    "        self.class_means_ = _class_means(X, y)\n",
    "        self.class_cov_ = _class_cov(\n",
    "            X, y, self.priors_, shrinkage, covariance_estimator=None\n",
    "        )\n",
    "\n",
    "\n",
    "        # TODO: can we implement this in such a way that the generalization *interpolates* between eigenface and fisherface!?\n",
    "        S_w = self.class_cov_  # within-class scatter matrix\n",
    "        S_t = _cov(X, shrinkage, covariance_estimator=None)  # total scatter matrix\n",
    "        S_b = S_t - S_w  # between-class scatter matrix\n",
    "\n",
    "        # calculate the A_matrix and B_matrix\n",
    "        A_matrix = S_b # TODO: add beta parameter to interpolate S_b??\n",
    "        B_matrix = self.alpha * np.identity(np.shape(S_w)[0]) + (1 - self.alpha)*S_w\n",
    "        self.A_matrix_ = A_matrix # TEMP FIXME\n",
    "        self.B_matrix_ = B_matrix\n",
    "\n",
    "        # solve generalized eigenvector problem\n",
    "        eigen_vals, eigen_vecs = linalg.eigh(A_matrix, B_matrix) # A v_i = lambda_i B v_i\n",
    "\n",
    "        # sort eigenvalues and eigenvectors\n",
    "        eigen_vals = np.sort(eigen_vals)[::-1]\n",
    "        eigen_vecs = eigen_vecs[:, np.argsort(eigen_vals)[::-1]]\n",
    "\n",
    "        self.eigen_vals_ = eigen_vals\n",
    "        self.eigen_vecs_ = eigen_vecs\n",
    "\n",
    "        # calculate the explained varaince ratio\n",
    "        self.explained_variance_ratio = eigen_vals[:self._max_components] / np.sum(eigen_vals)\n",
    "\n",
    "        # define transformation matrix\n",
    "        self.transformation_matrix_ = eigen_vecs\n",
    "\n",
    "\n",
    "    # NOTE: SVD solver seems to be much less prone to overfitting and doesn't require pca-first.\n",
    "    # TODO figure out why. perhaps implement (though it doesn't use within-class between-class scatter.)\n",
    "\n",
    "    def fit(self, X, y):\n",
    "        \"\"\"\n",
    "        Fit the fisher's linear discriminant model.\n",
    "\n",
    "        Args:\n",
    "            X (np.ndarray): training data of shape (n_samples, n_features)\n",
    "            y (List[int]): training labels of shape (n_samples,)\n",
    "\n",
    "        Returns:\n",
    "            self: Fitted estimator\n",
    "        \"\"\"\n",
    "\n",
    "        self.classes_ = unique_labels(y)\n",
    "        n_samples, dim = X.shape\n",
    "        n_classes = len(self.classes_)\n",
    "\n",
    "        if self.priors is None:  # estimate priors from sample\n",
    "            _, y_t = np.unique(y, return_inverse=True)  # non-negative ints\n",
    "            self.priors_ = np.bincount(y_t) / float(len(y))\n",
    "        else:\n",
    "            self.priors_ = np.asarray(self.priors)\n",
    "\n",
    "\n",
    "        # the maximum number of components possible\n",
    "        max_components = min(len(self.classes_) - 1, dim)\n",
    "\n",
    "        # if `n_components` is not specified, use largest possible\n",
    "        if self.n_components is None:\n",
    "            self._max_components = max_components\n",
    "\n",
    "        # if `n_components` is specified, check that it's valid\n",
    "        else:\n",
    "            if self.n_components > max_components:\n",
    "                raise ValueError(\n",
    "                    \"n_components cannot be larger than min(n_features, n_classes - 1).\"\n",
    "                )\n",
    "            self._max_components = self.n_components\n",
    "\n",
    "        # solve generalized eigenvector problem\n",
    "        self._solve_eigen( X, y, shrinkage=self.shrinkage)\n",
    "\n",
    "        return self\n",
    "\n",
    "    def transform(self, X):\n",
    "        \"\"\"\n",
    "        Project data to linear subspace which maximizes classs separation.\n",
    "\n",
    "        Args:\n",
    "            X (np.ndarray): input data of shape (n_samples, n_features)\n",
    "\n",
    "        Returns:\n",
    "            np.ndarray: transformed data.\n",
    "        \"\"\"\n",
    "\n",
    "        check_is_fitted(self) # only keep going model has already been fit\n",
    "\n",
    "        X_new = np.dot(X, self.transformation_matrix_)\n",
    "\n",
    "        return X_new[:, : self._max_components]"
   ]
  },
  {
   "cell_type": "markdown",
   "metadata": {},
   "source": [
    "## Tests"
   ]
  },
  {
   "cell_type": "code",
   "execution_count": 1,
   "metadata": {},
   "outputs": [
    {
     "name": "stdout",
     "output_type": "stream",
     "text": [
      "Total dataset size:\n",
      "n_samples:  1288\n",
      "n_features:  1850\n",
      "n_classes:  7\n"
     ]
    }
   ],
   "source": [
    "# load data\n",
    "import sklearn.datasets\n",
    "from sklearn.model_selection import train_test_split\n",
    "\n",
    "\n",
    "lfw_people = sklearn.datasets.fetch_lfw_people(min_faces_per_person=70, resize=0.4)\n",
    "\n",
    "n_samples, h, w = lfw_people.images.shape\n",
    "target_names = lfw_people.target_names\n",
    "n_classes = target_names.shape[0]\n",
    "\n",
    "X = lfw_people.data\n",
    "n_features = X.shape[1]\n",
    "\n",
    "y = lfw_people.target\n",
    "\n",
    "\n",
    "print(\"Total dataset size:\")\n",
    "print(\"n_samples: \",  n_samples)\n",
    "print(\"n_features: \", n_features)\n",
    "print(\"n_classes: \", n_classes)\n",
    "\n",
    "\n",
    "# split into a training and testing set\n",
    "X_train, X_test, y_train, y_test = train_test_split(X, y, test_size=0.25, random_state=42)\n",
    "\n",
    "# first, scale the data\n",
    "scaler = sklearn.preprocessing.StandardScaler().fit(X_train)\n",
    "X_train_trfm = scaler.transform(X_train)\n",
    "X_test_trfm = scaler.transform(X_test)"
   ]
  },
  {
   "cell_type": "code",
   "execution_count": 9,
   "metadata": {},
   "outputs": [],
   "source": [
    "N = len(X_train)\n",
    "c = len(np.unique(y))\n",
    "dim = X_train.shape[1]"
   ]
  },
  {
   "cell_type": "code",
   "execution_count": null,
   "metadata": {},
   "outputs": [
    {
     "data": {
      "text/plain": [
       "<matplotlib.image.AxesImage at 0x234ff6a8370>"
      ]
     },
     "execution_count": 5,
     "metadata": {},
     "output_type": "execute_result"
    },
    {
     "data": {
      "image/png": "[encoded data removed]",
      "text/plain": [
       "<Figure size 432x288 with 1 Axes>"
      ]
     },
     "metadata": {
      "needs_background": "light"
     },
     "output_type": "display_data"
    }
   ],
   "source": [
    "# show a random image sample\n",
    "import matplotlib.pyplot as plt\n",
    "sample_img = lfw_people.images[np.random.choice(range(n_samples))]\n",
    "plt.imshow(sample_img, cmap='gray')"
   ]
  },
  {
   "cell_type": "code",
   "execution_count": 14,
   "metadata": {},
   "outputs": [
    {
     "ename": "TypeError",
     "evalue": "__init__() got an unexpected keyword argument 'solver'",
     "output_type": "error",
     "traceback": [
      "\u001b[1;31m---------------------------------------------------------------------------\u001b[0m",
      "\u001b[1;31mTypeError\u001b[0m                                 Traceback (most recent call last)",
      "\u001b[1;32mc:\\Users\\awnya\\Documents\\Learning\\University\\F21\\Applied Math Thesis -- MTHE 493\\dimensionality-reduction-facial-recognition\\generalized_fisherface_v3.ipynb Cell 10'\u001b[0m in \u001b[0;36m<module>\u001b[1;34m\u001b[0m\n\u001b[1;32m----> <a href='vscode-notebook-cell:/c%3A/Users/awnya/Documents/Learning/University/F21/Applied%20Math%20Thesis%20--%20MTHE%20493/dimensionality-reduction-facial-recognition/generalized_fisherface_v3.ipynb#ch0000010?line=0'>1</a>\u001b[0m fld \u001b[39m=\u001b[39m GeneralizedFisherLD(n_components\u001b[39m=\u001b[39;49mc\u001b[39m-\u001b[39;49m\u001b[39m1\u001b[39;49m, solver\u001b[39m=\u001b[39;49m\u001b[39m'\u001b[39;49m\u001b[39msvd\u001b[39;49m\u001b[39m'\u001b[39;49m)\n\u001b[0;32m      <a href='vscode-notebook-cell:/c%3A/Users/awnya/Documents/Learning/University/F21/Applied%20Math%20Thesis%20--%20MTHE%20493/dimensionality-reduction-facial-recognition/generalized_fisherface_v3.ipynb#ch0000010?line=1'>2</a>\u001b[0m fld\u001b[39m.\u001b[39mfit(X_train_trfm, y_train)\n",
      "\u001b[1;31mTypeError\u001b[0m: __init__() got an unexpected keyword argument 'solver'"
     ]
    }
   ],
   "source": [
    "# fld = GeneralizedFisherLD(n_components=c-1, solver='svd')\n",
    "# fld.fit(X_train_trfm, y_train)"
   ]
  },
  {
   "cell_type": "code",
   "execution_count": 36,
   "metadata": {},
   "outputs": [
    {
     "data": {
      "text/plain": [
       "Pipeline(steps=[('pca', PCA(n_components=960)),\n",
       "                ('fld', FisherLD(n_components=6, shrinkage='auto')),\n",
       "                ('KNN', KNeighborsClassifier())])"
      ]
     },
     "execution_count": 36,
     "metadata": {},
     "output_type": "execute_result"
    }
   ],
   "source": [
    "import sklearn.pipeline\n",
    "from sklearn.neighbors import KNeighborsClassifier\n",
    "from sklearn.decomposition import PCA\n",
    "\n",
    "fld_clf = sklearn.pipeline.Pipeline(steps=[('pca', PCA(n_components=N-(c-1))),\n",
    "                                           ('fld', FisherLD(n_components=c-1, shrinkage='auto')),\n",
    "                                           ('KNN', KNeighborsClassifier(n_neighbors=5))])\n",
    "fld_clf.fit(X_train_trfm, y_train)"
   ]
  },
  {
   "cell_type": "code",
   "execution_count": 37,
   "metadata": {},
   "outputs": [
    {
     "name": "stdout",
     "output_type": "stream",
     "text": [
      "train acc:  0.468944099378882\n",
      "test acc:  0.38509316770186336\n"
     ]
    }
   ],
   "source": [
    "print('train acc: ', fld_clf.score(X_train_trfm, y_train))\n",
    "print('test acc: ', fld_clf.score(X_test_trfm, y_test))"
   ]
  },
  {
   "cell_type": "code",
   "execution_count": 33,
   "metadata": {},
   "outputs": [
    {
     "data": {
      "text/plain": [
       "Pipeline(steps=[('pca', PCA(n_components=960)),\n",
       "                ('fld', FisherLD(n_components=6)), ('svm', SVC())])"
      ]
     },
     "execution_count": 33,
     "metadata": {},
     "output_type": "execute_result"
    }
   ],
   "source": [
    "import sklearn.pipeline\n",
    "from sklearn.svm import SVC\n",
    "from sklearn.decomposition import PCA\n",
    "\n",
    "fld_clf = sklearn.pipeline.Pipeline(steps=[('pca', PCA(n_components=N-(c-1))),\n",
    "                                           ('fld', FisherLD(n_components=c-1)),\n",
    "                                           ('svm', SVC(kernel='rbf'))])\n",
    "fld_clf.fit(X_train_trfm, y_train)"
   ]
  },
  {
   "cell_type": "code",
   "execution_count": 34,
   "metadata": {},
   "outputs": [
    {
     "name": "stdout",
     "output_type": "stream",
     "text": [
      "train acc:  0.4409937888198758\n",
      "test acc:  0.4440993788819876\n"
     ]
    }
   ],
   "source": [
    "print('train acc: ', fld_clf.score(X_train_trfm, y_train))\n",
    "print('test acc: ', fld_clf.score(X_test_trfm, y_test))"
   ]
  },
  {
   "cell_type": "code",
   "execution_count": 93,
   "metadata": {},
   "outputs": [
    {
     "ename": "TypeError",
     "evalue": "__init__() got an unexpected keyword argument 'solver'",
     "output_type": "error",
     "traceback": [
      "\u001b[1;31m---------------------------------------------------------------------------\u001b[0m",
      "\u001b[1;31mTypeError\u001b[0m                                 Traceback (most recent call last)",
      "\u001b[1;32mc:\\Users\\awnya\\Documents\\Learning\\University\\F21\\Applied Math Thesis -- MTHE 493\\dimensionality-reduction-facial-recognition\\generalized_fisherface_v3.ipynb Cell 16'\u001b[0m in \u001b[0;36m<module>\u001b[1;34m\u001b[0m\n\u001b[0;32m      <a href='vscode-notebook-cell:/c%3A/Users/awnya/Documents/Learning/University/F21/Applied%20Math%20Thesis%20--%20MTHE%20493/dimensionality-reduction-facial-recognition/generalized_fisherface_v3.ipynb#ch0000020?line=1'>2</a>\u001b[0m \u001b[39mfrom\u001b[39;00m \u001b[39msklearn\u001b[39;00m\u001b[39m.\u001b[39;00m\u001b[39mensemble\u001b[39;00m \u001b[39mimport\u001b[39;00m RandomForestClassifier\n\u001b[0;32m      <a href='vscode-notebook-cell:/c%3A/Users/awnya/Documents/Learning/University/F21/Applied%20Math%20Thesis%20--%20MTHE%20493/dimensionality-reduction-facial-recognition/generalized_fisherface_v3.ipynb#ch0000020?line=2'>3</a>\u001b[0m \u001b[39mfrom\u001b[39;00m \u001b[39msklearn\u001b[39;00m\u001b[39m.\u001b[39;00m\u001b[39mdecomposition\u001b[39;00m \u001b[39mimport\u001b[39;00m PCA\n\u001b[0;32m      <a href='vscode-notebook-cell:/c%3A/Users/awnya/Documents/Learning/University/F21/Applied%20Math%20Thesis%20--%20MTHE%20493/dimensionality-reduction-facial-recognition/generalized_fisherface_v3.ipynb#ch0000020?line=4'>5</a>\u001b[0m fld_clf \u001b[39m=\u001b[39m sklearn\u001b[39m.\u001b[39mpipeline\u001b[39m.\u001b[39mPipeline(steps\u001b[39m=\u001b[39m[(\u001b[39m'\u001b[39m\u001b[39mpca\u001b[39m\u001b[39m'\u001b[39m, PCA(n_components\u001b[39m=\u001b[39mN\u001b[39m-\u001b[39m(c\u001b[39m-\u001b[39m\u001b[39m1\u001b[39m))),\n\u001b[1;32m----> <a href='vscode-notebook-cell:/c%3A/Users/awnya/Documents/Learning/University/F21/Applied%20Math%20Thesis%20--%20MTHE%20493/dimensionality-reduction-facial-recognition/generalized_fisherface_v3.ipynb#ch0000020?line=5'>6</a>\u001b[0m                                            (\u001b[39m'\u001b[39m\u001b[39mfld\u001b[39m\u001b[39m'\u001b[39m, FisherLD(n_components\u001b[39m=\u001b[39;49mc\u001b[39m-\u001b[39;49m\u001b[39m1\u001b[39;49m, solver\u001b[39m=\u001b[39;49m\u001b[39m'\u001b[39;49m\u001b[39meigen\u001b[39;49m\u001b[39m'\u001b[39;49m, shrinkage\u001b[39m=\u001b[39;49m\u001b[39m'\u001b[39;49m\u001b[39mempirical\u001b[39;49m\u001b[39m'\u001b[39;49m)),\n\u001b[0;32m      <a href='vscode-notebook-cell:/c%3A/Users/awnya/Documents/Learning/University/F21/Applied%20Math%20Thesis%20--%20MTHE%20493/dimensionality-reduction-facial-recognition/generalized_fisherface_v3.ipynb#ch0000020?line=6'>7</a>\u001b[0m                                            (\u001b[39m'\u001b[39m\u001b[39mrf\u001b[39m\u001b[39m'\u001b[39m, RandomForestClassifier())])\n\u001b[0;32m      <a href='vscode-notebook-cell:/c%3A/Users/awnya/Documents/Learning/University/F21/Applied%20Math%20Thesis%20--%20MTHE%20493/dimensionality-reduction-facial-recognition/generalized_fisherface_v3.ipynb#ch0000020?line=7'>8</a>\u001b[0m fld_clf\u001b[39m.\u001b[39mfit(X_train_trfm, y_train)\n",
      "\u001b[1;31mTypeError\u001b[0m: __init__() got an unexpected keyword argument 'solver'"
     ]
    }
   ],
   "source": [
    "import sklearn.pipeline\n",
    "from sklearn.ensemble import RandomForestClassifier\n",
    "from sklearn.decomposition import PCA\n",
    "\n",
    "fld_clf = sklearn.pipeline.Pipeline(steps=[('pca', PCA(n_components=N-(c-1))),\n",
    "                                           ('fld', FisherLD(n_components=c-1, solver='eigen', shrinkage='empirical')),\n",
    "                                           ('rf', RandomForestClassifier())])\n",
    "fld_clf.fit(X_train_trfm, y_train)"
   ]
  },
  {
   "cell_type": "code",
   "execution_count": 94,
   "metadata": {},
   "outputs": [
    {
     "ename": "AttributeError",
     "evalue": "'RandomForestClassifier' object has no attribute 'scalings_'",
     "output_type": "error",
     "traceback": [
      "\u001b[1;31m---------------------------------------------------------------------------\u001b[0m",
      "\u001b[1;31mAttributeError\u001b[0m                            Traceback (most recent call last)",
      "\u001b[1;32mc:\\Users\\awnya\\Documents\\Learning\\University\\F21\\Applied Math Thesis -- MTHE 493\\dimensionality-reduction-facial-recognition\\generalized_fisherface_v3.ipynb Cell 17'\u001b[0m in \u001b[0;36m<module>\u001b[1;34m\u001b[0m\n\u001b[1;32m----> <a href='vscode-notebook-cell:/c%3A/Users/awnya/Documents/Learning/University/F21/Applied%20Math%20Thesis%20--%20MTHE%20493/dimensionality-reduction-facial-recognition/generalized_fisherface_v3.ipynb#ch0000022?line=0'>1</a>\u001b[0m W_ff \u001b[39m=\u001b[39m fld_clf[\u001b[39m1\u001b[39;49m]\u001b[39m.\u001b[39;49mscalings_ \u001b[39m@\u001b[39m fld_clf[\u001b[39m0\u001b[39m]\u001b[39m.\u001b[39mcomponents_\n",
      "\u001b[1;31mAttributeError\u001b[0m: 'RandomForestClassifier' object has no attribute 'scalings_'"
     ]
    }
   ],
   "source": [
    "W_ff = fld_clf[1].scalings_ @ fld_clf[0].components_"
   ]
  },
  {
   "cell_type": "code",
   "execution_count": 95,
   "metadata": {},
   "outputs": [
    {
     "ename": "AttributeError",
     "evalue": "'RandomForestClassifier' object has no attribute 'scalings_'",
     "output_type": "error",
     "traceback": [
      "\u001b[1;31m---------------------------------------------------------------------------\u001b[0m",
      "\u001b[1;31mAttributeError\u001b[0m                            Traceback (most recent call last)",
      "\u001b[1;32mc:\\Users\\awnya\\Documents\\Learning\\University\\F21\\Applied Math Thesis -- MTHE 493\\dimensionality-reduction-facial-recognition\\generalized_fisherface_v3.ipynb Cell 18'\u001b[0m in \u001b[0;36m<module>\u001b[1;34m\u001b[0m\n\u001b[1;32m----> <a href='vscode-notebook-cell:/c%3A/Users/awnya/Documents/Learning/University/F21/Applied%20Math%20Thesis%20--%20MTHE%20493/dimensionality-reduction-facial-recognition/generalized_fisherface_v3.ipynb#ch0000029?line=0'>1</a>\u001b[0m fld_clf[\u001b[39m1\u001b[39;49m]\u001b[39m.\u001b[39;49mscalings_\n",
      "\u001b[1;31mAttributeError\u001b[0m: 'RandomForestClassifier' object has no attribute 'scalings_'"
     ]
    }
   ],
   "source": [
    "fld_clf[1].scalings_"
   ]
  },
  {
   "cell_type": "code",
   "execution_count": 68,
   "metadata": {},
   "outputs": [
    {
     "data": {
      "text/plain": [
       "(960,)"
      ]
     },
     "execution_count": 68,
     "metadata": {},
     "output_type": "execute_result"
    }
   ],
   "source": [
    "W_ff[:,0].shape"
   ]
  },
  {
   "cell_type": "code",
   "execution_count": 70,
   "metadata": {},
   "outputs": [
    {
     "data": {
      "text/plain": [
       "(960, 1850)"
      ]
     },
     "execution_count": 70,
     "metadata": {},
     "output_type": "execute_result"
    }
   ],
   "source": [
    "W_ff.shape"
   ]
  },
  {
   "cell_type": "code",
   "execution_count": 73,
   "metadata": {},
   "outputs": [
    {
     "data": {
      "text/plain": [
       "(1850,)"
      ]
     },
     "execution_count": 73,
     "metadata": {},
     "output_type": "execute_result"
    }
   ],
   "source": [
    "W_ff[0,:].shape"
   ]
  },
  {
   "cell_type": "code",
   "execution_count": 87,
   "metadata": {},
   "outputs": [
    {
     "data": {
      "text/plain": [
       "<matplotlib.image.AxesImage at 0x2348ba0a760>"
      ]
     },
     "execution_count": 87,
     "metadata": {},
     "output_type": "execute_result"
    },
    {
     "data": {
      "image/png": "[encoded data removed]",
      "text/plain": [
       "<Figure size 432x288 with 1 Axes>"
      ]
     },
     "metadata": {
      "needs_background": "light"
     },
     "output_type": "display_data"
    }
   ],
   "source": [
    "# fisherfaces!\n",
    "\n",
    "plt.imshow(W_ff[0,:].reshape(50, 37))"
   ]
  },
  {
   "cell_type": "code",
   "execution_count": 61,
   "metadata": {},
   "outputs": [
    {
     "name": "stdout",
     "output_type": "stream",
     "text": [
      "train acc:  1.0\n",
      "test acc:  0.4472049689440994\n"
     ]
    }
   ],
   "source": [
    "print('train acc: ', fld_clf.score(X_train_trfm, y_train))\n",
    "print('test acc: ', fld_clf.score(X_test_trfm, y_test))"
   ]
  },
  {
   "cell_type": "code",
   "execution_count": 89,
   "metadata": {},
   "outputs": [
    {
     "data": {
      "text/plain": [
       "Pipeline(steps=[('fld', FisherLD(n_components=6, shrinkage='auto')),\n",
       "                ('rf', RandomForestClassifier())])"
      ]
     },
     "execution_count": 89,
     "metadata": {},
     "output_type": "execute_result"
    }
   ],
   "source": [
    "import sklearn.pipeline\n",
    "from sklearn.ensemble import RandomForestClassifier\n",
    "from sklearn.decomposition import PCA\n",
    "\n",
    "fld_clf = sklearn.pipeline.Pipeline(steps=[#('pca', PCA(n_components=N-(c-1))),\n",
    "                                           ('fld', FisherLD(n_components=c-1, shrinkage='auto')),\n",
    "                                           ('rf', RandomForestClassifier())])\n",
    "fld_clf.fit(X_train_trfm, y_train)"
   ]
  },
  {
   "cell_type": "code",
   "execution_count": 92,
   "metadata": {},
   "outputs": [
    {
     "data": {
      "text/plain": [
       "<matplotlib.image.AxesImage at 0x1b082fa0b20>"
      ]
     },
     "execution_count": 92,
     "metadata": {},
     "output_type": "execute_result"
    },
    {
     "data": {
      "image/png": "[encoded data removed]",
      "text/plain": [
       "<Figure size 432x288 with 1 Axes>"
      ]
     },
     "metadata": {
      "needs_background": "light"
     },
     "output_type": "display_data"
    }
   ],
   "source": [
    "import matplotlib.pyplot as plt\n",
    "plt.imshow(fld_clf[0].transformation_matrix_[0,:].reshape(50,37))"
   ]
  },
  {
   "cell_type": "code",
   "execution_count": 63,
   "metadata": {},
   "outputs": [
    {
     "name": "stdout",
     "output_type": "stream",
     "text": [
      "train acc:  1.0\n",
      "test acc:  0.43788819875776397\n"
     ]
    }
   ],
   "source": [
    "print('train acc: ', fld_clf.score(X_train_trfm, y_train))\n",
    "print('test acc: ', fld_clf.score(X_test_trfm, y_test))"
   ]
  },
  {
   "cell_type": "code",
   "execution_count": 82,
   "metadata": {},
   "outputs": [
    {
     "data": {
      "text/plain": [
       "Pipeline(steps=[('pca', PCA(n_components=6)), ('rf', RandomForestClassifier())])"
      ]
     },
     "execution_count": 82,
     "metadata": {},
     "output_type": "execute_result"
    }
   ],
   "source": [
    "import sklearn.pipeline\n",
    "from sklearn.ensemble import RandomForestClassifier\n",
    "from sklearn.decomposition import PCA\n",
    "\n",
    "eigface_clf = sklearn.pipeline.Pipeline(steps=[('pca', PCA(n_components=c-1)),\n",
    "                                        #    ('fld', GeneralizedFisherLD(n_components=c-1, alpha=1, shrinkage='auto')),\n",
    "                                           ('rf', RandomForestClassifier())])\n",
    "eigface_clf.fit(X_train_trfm, y_train)"
   ]
  },
  {
   "cell_type": "code",
   "execution_count": 88,
   "metadata": {},
   "outputs": [
    {
     "data": {
      "text/plain": [
       "<matplotlib.image.AxesImage at 0x1b082ea4820>"
      ]
     },
     "execution_count": 88,
     "metadata": {},
     "output_type": "execute_result"
    },
    {
     "data": {
      "image/png": "[encoded data removed]",
      "text/plain": [
       "<Figure size 432x288 with 1 Axes>"
      ]
     },
     "metadata": {
      "needs_background": "light"
     },
     "output_type": "display_data"
    }
   ],
   "source": [
    "plt.imshow(eigface_clf[0].components_[0,:].reshape(50,37))"
   ]
  },
  {
   "cell_type": "code",
   "execution_count": 56,
   "metadata": {},
   "outputs": [
    {
     "name": "stdout",
     "output_type": "stream",
     "text": [
      "train acc:  1.0\n",
      "test acc:  0.4937888198757764\n"
     ]
    }
   ],
   "source": [
    "print('train acc: ', eigface_clf.score(X_train_trfm, y_train))\n",
    "print('test acc: ', eigface_clf.score(X_test_trfm, y_test))"
   ]
  },
  {
   "cell_type": "markdown",
   "metadata": {},
   "source": [
    "-------------------------"
   ]
  },
  {
   "cell_type": "code",
   "execution_count": 6,
   "metadata": {},
   "outputs": [],
   "source": [
    "from generalized_fisherface_eigen import FisherLD"
   ]
  },
  {
   "cell_type": "code",
   "execution_count": 11,
   "metadata": {},
   "outputs": [
    {
     "data": {
      "text/plain": [
       "Pipeline(steps=[('pca', PCA(n_components=960)),\n",
       "                ('fld', FisherLD(n_components=6, shrinkage='empirical')),\n",
       "                ('rf', RandomForestClassifier())])"
      ]
     },
     "execution_count": 11,
     "metadata": {},
     "output_type": "execute_result"
    }
   ],
   "source": [
    "import sklearn.pipeline\n",
    "from sklearn.ensemble import RandomForestClassifier\n",
    "from sklearn.decomposition import PCA\n",
    "\n",
    "fld_clf = sklearn.pipeline.Pipeline(steps=[('pca', PCA(n_components=N-(c-1))),\n",
    "                                           ('fld', FisherLD(n_components=c-1, shrinkage='empirical')),\n",
    "                                           ('rf', RandomForestClassifier())])\n",
    "fld_clf.fit(X_train_trfm, y_train)"
   ]
  }
 ],
 "metadata": {
  "interpreter": {
   "hash": "205d50f58f82a2b4d9ed38d5fc136ab30afd6ca8c2e73e92b6068ffbf36380d0"
  },
  "kernelspec": {
   "display_name": "Python 3.8.12 ('ml')",
   "language": "python",
   "name": "python3"
  },
  "language_info": {
   "codemirror_mode": {
    "name": "ipython",
    "version": 3
   },
   "file_extension": ".py",
   "mimetype": "text/x-python",
   "name": "python",
   "nbconvert_exporter": "python",
   "pygments_lexer": "ipython3",
   "version": "3.8.12"
  },
  "orig_nbformat": 4
 },
 "nbformat": 4,
 "nbformat_minor": 2
}
