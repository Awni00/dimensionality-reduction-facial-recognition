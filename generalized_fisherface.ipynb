{
 "cells": [
  {
   "cell_type": "markdown",
   "metadata": {},
   "source": [
    "# Implementation of Generalized Fisherface"
   ]
  },
  {
   "cell_type": "markdown",
   "metadata": {},
   "source": [
    "## Baseline Fisherface"
   ]
  },
  {
   "cell_type": "code",
   "execution_count": 1,
   "metadata": {},
   "outputs": [],
   "source": [
    "import numpy as np\n",
    "\n",
    "import torch\n",
    "from torch import nn\n",
    "import torch.optim\n",
    "\n",
    "from sklearn.decomposition import PCA\n",
    "\n",
    "from tqdm import tqdm"
   ]
  },
  {
   "cell_type": "code",
   "execution_count": 53,
   "metadata": {},
   "outputs": [],
   "source": [
    "import matplotlib.pyplot as plt"
   ]
  },
  {
   "cell_type": "markdown",
   "metadata": {},
   "source": [
    "NOTE: OPTIMIZATION SEEMS TO BE SOMEHOW NOT WELL POSED. WHY? NO BOUNDS, LOSS IS ARBITRARILY SMALL / MAXIMIZATION ARBITRARILY LARGE\n",
    "\n",
    "Q: Is fisherace omitting some details about the optimization? what's to stop us from getting arbitrarily low loss through an arbitrarily large matrix? is the optimization supposed to be over matrices with columns with unit length? If so, how can I turn this into an unconstrained optimization problem so that I can use gradient descent or similar optimization algorithms?"
   ]
  },
  {
   "cell_type": "markdown",
   "metadata": {},
   "source": [
    "# PCA (via Gradient Decent)"
   ]
  },
  {
   "cell_type": "code",
   "execution_count": 62,
   "metadata": {},
   "outputs": [],
   "source": [
    "class myPCA():\n",
    "    '''An implementation of PCA using gradient decent'''\n",
    "    # used for debugging implementation of generalized fisherface...\n",
    "    def __init__(self, X, n_components, optimizer=torch.optim.Adam, lr=1e-2, n_steps=100, l2_coef=1, verbose=True, **optim_kwargs):\n",
    "\n",
    "        self.n_samples = np.shape(X)[0]\n",
    "        self.dim = np.shape(X)[1]\n",
    "        self.n_components = n_components\n",
    "\n",
    "        self.l2_coef = l2_coef\n",
    "\n",
    "        W = torch.eye(self.dim, self.n_components) # (dim x n_compoenents) matrix\n",
    "        self.W = nn.Parameter(W)\n",
    "\n",
    "        # NOTE: we assume normalization prior to calling this...\n",
    "        global_mean = np.mean(X, axis=0)\n",
    "\n",
    "        # compute total scatter matrix\n",
    "        self.S_T = (X - global_mean).T @ (X - global_mean)\n",
    "        # self.S_T = np.cov(X.T)# NOTE TEMP\n",
    "        self.S_T = torch.tensor(self.S_T, dtype=torch.float32)\n",
    "\n",
    "        self.optimizer = optimizer([self.W], lr=lr, **optim_kwargs)\n",
    "        self.n_steps = n_steps\n",
    "        self.loss_history = []\n",
    "\n",
    "    def loss(self):\n",
    "        # (negative since we're maximizing) + L2 regularization to implement constrained optimization (NOTE TEMP experimentating)\n",
    "        loss = - torch.det(self.W.t() @ self.S_T @ self.W) + self.l2_coef * torch.linalg.matrix_norm(self.W, ord=2)\n",
    "        return loss\n",
    "\n",
    "    @property\n",
    "    def W_opt(self):\n",
    "        '''returns normalized transformation matrix'''\n",
    "        return self.W / torch.sqrt(torch.sum(self.W**2, axis=0))\n",
    "\n",
    "    def fit(self, X=None, y=None, n_steps=None):\n",
    "        if n_steps is None:\n",
    "            n_steps = self.n_steps\n",
    "\n",
    "        print('Fitting transformation...')\n",
    "        for _ in tqdm(range(n_steps)):\n",
    "            self.optimizer.zero_grad()\n",
    "            loss = self.loss()\n",
    "            loss.backward()\n",
    "            self.optimizer.step()\n",
    "            self.loss_history.append(loss.detach().numpy())\n",
    "\n",
    "    def transform(self, X):\n",
    "        return self.W_opt.t() @ X"
   ]
  },
  {
   "cell_type": "code",
   "execution_count": 135,
   "metadata": {},
   "outputs": [],
   "source": [
    "n_samples = 1000\n",
    "dim = 64*64\n",
    "n_classes = 6\n",
    "n_components = 1\n",
    "\n",
    "X1 = np.random.uniform(size=n_samples)\n",
    "X2 = 2*X1 + 0.2*np.random.normal(size=n_samples)\n",
    "X = np.array((X1, X2)).T\n",
    "\n",
    "# X = np.random.uniform(size=(n_samples, dim))\n",
    "y = np.random.randint(0, n_classes-1, size=n_samples)"
   ]
  },
  {
   "cell_type": "code",
   "execution_count": 136,
   "metadata": {},
   "outputs": [
    {
     "data": {
      "text/plain": [
       "(1000, 2)"
      ]
     },
     "execution_count": 136,
     "metadata": {},
     "output_type": "execute_result"
    }
   ],
   "source": [
    "X.shape"
   ]
  },
  {
   "cell_type": "code",
   "execution_count": 225,
   "metadata": {},
   "outputs": [],
   "source": [
    "pca = myPCA(X, n_components, optimizer=torch.optim.RMSprop, lr=1e-2, l2_coef=10)"
   ]
  },
  {
   "cell_type": "code",
   "execution_count": 226,
   "metadata": {},
   "outputs": [
    {
     "name": "stdout",
     "output_type": "stream",
     "text": [
      "Fitting transformation...\n"
     ]
    },
    {
     "name": "stderr",
     "output_type": "stream",
     "text": [
      "100%|██████████| 1000/1000 [00:01<00:00, 848.35it/s]\n"
     ]
    }
   ],
   "source": [
    "pca.fit(n_steps=1000)"
   ]
  },
  {
   "cell_type": "code",
   "execution_count": 227,
   "metadata": {},
   "outputs": [
    {
     "data": {
      "text/plain": [
       "tensor([[0.7320],\n",
       "        [0.6813]], grad_fn=<DivBackward0>)"
      ]
     },
     "execution_count": 227,
     "metadata": {},
     "output_type": "execute_result"
    }
   ],
   "source": [
    "pca.W_opt"
   ]
  },
  {
   "cell_type": "code",
   "execution_count": 228,
   "metadata": {},
   "outputs": [
    {
     "data": {
      "text/plain": [
       "[<matplotlib.lines.Line2D at 0x1e820b76fa0>]"
      ]
     },
     "execution_count": 228,
     "metadata": {},
     "output_type": "execute_result"
    },
    {
     "data": {
      "image/png": "[encoded data removed]",
      "text/plain": [
       "<Figure size 432x288 with 1 Axes>"
      ]
     },
     "metadata": {
      "needs_background": "light"
     },
     "output_type": "display_data"
    }
   ],
   "source": [
    "plt.plot(pca.loss_history)"
   ]
  },
  {
   "cell_type": "code",
   "execution_count": 229,
   "metadata": {},
   "outputs": [
    {
     "data": {
      "text/plain": [
       "tensor([[1.]], grad_fn=<MmBackward0>)"
      ]
     },
     "execution_count": 229,
     "metadata": {},
     "output_type": "execute_result"
    }
   ],
   "source": [
    "pca.W_opt.t() @ pca.W_opt # W_opt is indeed orthonormal..."
   ]
  },
  {
   "cell_type": "code",
   "execution_count": 230,
   "metadata": {},
   "outputs": [],
   "source": [
    "W = PCA(n_components=n_components).fit(X).components_.T # get the transformation obtained by sklearn's PCA"
   ]
  },
  {
   "cell_type": "code",
   "execution_count": 231,
   "metadata": {},
   "outputs": [
    {
     "name": "stdout",
     "output_type": "stream",
     "text": [
      "[[-0.41433838]\n",
      " [-0.91012291]]\n"
     ]
    }
   ],
   "source": [
    "print(W) # but is different from the transformation obtained via PCA; but it might be 'equivalent'? perhaps same 'subspace'"
   ]
  },
  {
   "cell_type": "markdown",
   "metadata": {},
   "source": [
    "the results from sklearn's PCA are different. but sklearn's PCA is different each time you run it. how can we validate that the results are 'equivalent'?? compare subspaces?? compare loss?"
   ]
  },
  {
   "cell_type": "code",
   "execution_count": 232,
   "metadata": {},
   "outputs": [
    {
     "data": {
      "text/plain": [
       "tensor(444.9521)"
      ]
     },
     "execution_count": 232,
     "metadata": {},
     "output_type": "execute_result"
    }
   ],
   "source": [
    "W = torch.tensor(W, dtype=torch.float32)\n",
    "torch.det(W.T @ pca.S_T @ W)"
   ]
  },
  {
   "cell_type": "code",
   "execution_count": 233,
   "metadata": {},
   "outputs": [
    {
     "data": {
      "text/plain": [
       "tensor(-146396.6719, grad_fn=<AddBackward0>)"
      ]
     },
     "execution_count": 233,
     "metadata": {},
     "output_type": "execute_result"
    }
   ],
   "source": [
    "pca.loss() # loss with un-normalized transformation matrix"
   ]
  },
  {
   "cell_type": "code",
   "execution_count": 234,
   "metadata": {},
   "outputs": [
    {
     "data": {
      "text/plain": [
       "tensor(-379.3869, grad_fn=<AddBackward0>)"
      ]
     },
     "execution_count": 234,
     "metadata": {},
     "output_type": "execute_result"
    }
   ],
   "source": [
    "- torch.det(pca.W_opt.t() @ pca.S_T @ pca.W_opt) + torch.linalg.matrix_norm(pca.W_opt, ord=2) # full loss (with regualarization) of normalized matrix"
   ]
  },
  {
   "cell_type": "markdown",
   "metadata": {},
   "source": [
    "the loss obtained by sklearn's PCA implementation is consistently the same even though the `components_` differ."
   ]
  },
  {
   "cell_type": "code",
   "execution_count": 224,
   "metadata": {},
   "outputs": [
    {
     "data": {
      "text/plain": [
       "tensor(289.9221, grad_fn=<DetLuBasedHelperBackward0>)"
      ]
     },
     "execution_count": 224,
     "metadata": {},
     "output_type": "execute_result"
    }
   ],
   "source": [
    "torch.det(pca.W_opt.t() @ pca.S_T @ pca.W_opt) # only maximization functional from fisherface paper"
   ]
  },
  {
   "cell_type": "markdown",
   "metadata": {},
   "source": [
    "my implementation doesn't achieve as high a maximization as sklearn's PCA... why?"
   ]
  },
  {
   "cell_type": "markdown",
   "metadata": {},
   "source": [
    "actually, for a simple example, my implementation achieaves the exact same loss... is there some kind of instability going on? convergence is achieved for simple examples but for more complicated ones? confirm: this is a convex optimization problem right? should i be looking into optimization algorithms other than gradient decent-based ones."
   ]
  },
  {
   "cell_type": "markdown",
   "metadata": {},
   "source": [
    "# Fisherface"
   ]
  },
  {
   "cell_type": "code",
   "execution_count": 142,
   "metadata": {},
   "outputs": [],
   "source": [
    "class Fisherface():\n",
    "    def __init__(self, X, y, n_components=None, pca_first=True, verbose=True, S_B=None, S_W=None):\n",
    "\n",
    "        self.n_samples = np.shape(X)[0]\n",
    "        self.dim = np.shape(X)[1]\n",
    "\n",
    "        self.n_classes = len(np.unique(y))\n",
    "\n",
    "\n",
    "        # set default number components to be number of classes - 1 (if no other number given)\n",
    "        if n_components is None:\n",
    "            # this is the maximum number of components s.t. S_W is non-singular\n",
    "            self.n_components = self.n_classes - 1\n",
    "        else:\n",
    "            self.n_components = n_components\n",
    "\n",
    "        if pca_first:\n",
    "            # perform PCA first to address S_W, the within-class scatter matrix, being singular\n",
    "\n",
    "            # the PCA matrix\n",
    "            if verbose:\n",
    "                print('Performing PCA for initial dimensionality reduction')\n",
    "            pca = PCA(n_components=self.n_samples - self.n_classes).fit(X)\n",
    "            self.W_pca = torch.tensor(pca.components_.T, dtype=torch.float32) # (dim x n_samples - n_classes) matrix\n",
    "            if verbose:\n",
    "                print('Done.')\n",
    "\n",
    "            # the fisher's linear discriminant matrix\n",
    "            # TODO: consider what the best choice for intialization would be.\n",
    "            W_fld = torch.eye(self.n_samples - self.n_classes, self.n_components) \\\n",
    "                    + torch.rand(self.n_samples - self.n_classes, self.n_components) # (n_samples - n_classes x n_compoenents) matrix\n",
    "            self.W_fld = nn.Parameter(W_fld)\n",
    "\n",
    "        else:\n",
    "            # don't perform PCA, perform standard fisher's linear discriminant\n",
    "            self.W_pca = torch.eye(self.dim)\n",
    "\n",
    "            W_fld = torch.Tensor(self.n_samples - self.n_classes, self.n_components) # (n_samples - n_classes x n_compoenents) matrix\n",
    "            self.W_fld = nn.Parameter(W_fld)\n",
    "\n",
    "\n",
    "        # NOTE: we assume normalization prior to calling this...\n",
    "        classes = np.sort(np.unique(y)) # classes in the dataset\n",
    "        points_by_class = [X[y==class_] for class_ in classes] # the sets X_i\n",
    "        n_points_by_class = [len(X[y==class_]) for class_ in classes]\n",
    "        class_means = [np.mean(class_points, axis=0) for class_points in points_by_class] # mu_i's\n",
    "        global_mean = np.expand_dims(np.mean(X, axis=0),-1)\n",
    "\n",
    "        # between-class scatter matrix\n",
    "        if verbose:\n",
    "            print('Computing the between-class and within-class scatter matrices...')\n",
    "\n",
    "        # allow for precomputing S_B and S_W for faster debugging\n",
    "        if S_B is None or S_W is None:\n",
    "            self.S_B = np.sum([n_points_by_class[class_] * (class_means[class_] - global_mean).T @ (class_means[class_] - global_mean) for class_ in classes], axis=0)\n",
    "            self.S_W = np.sum([(points_by_class[class_] - class_means[class_]).T @ (points_by_class[class_] - class_means[class_]) for class_ in classes], axis=0)\n",
    "        else:\n",
    "            self.S_B = S_B\n",
    "            self.S_W = S_W\n",
    "\n",
    "        self.S_B = torch.tensor(self.S_B, dtype=torch.float32)\n",
    "        self.S_W = torch.tensor(self.S_W, dtype=torch.float32)\n",
    "        if verbose:\n",
    "            print('Done.')\n",
    "\n",
    "\n",
    "    def loss(self):\n",
    "        numerator = torch.det(self.W_fld.t() @ self.W_pca.t() @ self.S_B @ self.W_pca @ self.W_fld)\n",
    "        denominator = torch.det(self.W_fld.t() @ self.W_pca.t() @ self.S_W @ self.W_pca @ self.W_fld)\n",
    "        loss = - numerator / denominator # (negative since we're maximizing)\n",
    "        return loss\n",
    "\n",
    "    @property\n",
    "    def W_opt(self):\n",
    "        return self.W_pca @ self.W_fld\n",
    "\n",
    "    def fit(self, X, y):\n",
    "        pass\n",
    "\n",
    "    def transform(self, X):\n",
    "        pass"
   ]
  },
  {
   "cell_type": "code",
   "execution_count": 143,
   "metadata": {},
   "outputs": [],
   "source": [
    "S_B = fld.S_B.detach().numpy()\n",
    "S_W = fld.S_W.detach().numpy()"
   ]
  },
  {
   "cell_type": "code",
   "execution_count": 51,
   "metadata": {},
   "outputs": [],
   "source": [
    "n_samples = 1000\n",
    "dim = 64*64\n",
    "n_classes = 6\n",
    "n_components = 5\n",
    "\n",
    "X = np.random.uniform(size=(n_samples, dim))\n",
    "y = np.random.randint(0, n_classes-1, size=n_samples)\n",
    "\n",
    "# fld = Fisherface(X, y, n_components=n_components, pca_first=True)"
   ]
  },
  {
   "cell_type": "code",
   "execution_count": 164,
   "metadata": {},
   "outputs": [
    {
     "name": "stdout",
     "output_type": "stream",
     "text": [
      "Performing PCA for initial dimensionality reduction\n",
      "Done.\n",
      "Computing the between-class and within-class scatter matrices...\n",
      "Done.\n"
     ]
    }
   ],
   "source": [
    "fld = Fisherface(X, y, n_components=n_components, pca_first=True, S_B=S_B, S_W=S_W)"
   ]
  },
  {
   "cell_type": "code",
   "execution_count": 167,
   "metadata": {},
   "outputs": [
    {
     "data": {
      "text/plain": [
       "tensor([[ 61853.2500, -52495.2578, -39789.2031,  13971.1719, -21186.1426],\n",
       "        [ -5974.6821,   8014.5391,  10462.8730,   2579.0161,  -3760.1821],\n",
       "        [ 10566.6855, -35335.0898, -19384.4062,   2742.2375,   4167.3550],\n",
       "        ...,\n",
       "        [-11012.6816,   7640.9126,  13530.7695,  -8384.8271,   6211.9663],\n",
       "        [ 14166.7910, -30040.1055, -10209.0518,   2564.4790,  -1195.6466],\n",
       "        [ 24937.6035, -18554.4766, -13991.1953,  -3230.4907,  -7145.3887]])"
      ]
     },
     "execution_count": 167,
     "metadata": {},
     "output_type": "execute_result"
    }
   ],
   "source": [
    "loss = fld.loss()\n",
    "loss.backward()\n",
    "fld.W_fld.grad"
   ]
  },
  {
   "cell_type": "code",
   "execution_count": 169,
   "metadata": {},
   "outputs": [
    {
     "data": {
      "text/plain": [
       "Parameter containing:\n",
       "tensor([[1.2030, 0.1466, 0.0552, 0.3083, 0.6972],\n",
       "        [0.6202, 1.8754, 0.2999, 0.8033, 0.2063],\n",
       "        [0.7881, 0.0266, 1.0428, 0.4321, 0.4302],\n",
       "        ...,\n",
       "        [0.6960, 0.2532, 0.1509, 0.1046, 0.1454],\n",
       "        [0.8285, 0.1132, 0.5184, 0.6016, 0.3878],\n",
       "        [0.7546, 0.6600, 0.0294, 0.3034, 0.6303]], requires_grad=True)"
      ]
     },
     "execution_count": 169,
     "metadata": {},
     "output_type": "execute_result"
    }
   ],
   "source": [
    "fld.W_fld"
   ]
  },
  {
   "cell_type": "code",
   "execution_count": 173,
   "metadata": {},
   "outputs": [
    {
     "name": "stderr",
     "output_type": "stream",
     "text": [
      "100%|██████████| 100/100 [00:09<00:00, 10.78it/s]\n"
     ]
    }
   ],
   "source": [
    "n_steps = int(1e2)\n",
    "optimizer = torch.optim.SGD([fld.W_fld], lr=1e-10)\n",
    "loss_history = []\n",
    "\n",
    "\n",
    "for _ in tqdm(range(n_steps)):\n",
    "    optimizer.zero_grad()\n",
    "    loss = fld.loss()\n",
    "    loss.backward()\n",
    "    optimizer.step()\n",
    "    loss_history.append(loss.detach().numpy())"
   ]
  },
  {
   "cell_type": "code",
   "execution_count": 174,
   "metadata": {},
   "outputs": [
    {
     "data": {
      "text/plain": [
       "[array(-98863.695, dtype=float32),\n",
       " array(-99451.12, dtype=float32),\n",
       " array(-100042.71, dtype=float32),\n",
       " array(-100643.08, dtype=float32),\n",
       " array(-101239.836, dtype=float32),\n",
       " array(-101846.47, dtype=float32),\n",
       " array(-102453.01, dtype=float32),\n",
       " array(-103061.99, dtype=float32),\n",
       " array(-103679., dtype=float32),\n",
       " array(-104297.48, dtype=float32),\n",
       " array(-104920.69, dtype=float32),\n",
       " array(-105559.375, dtype=float32),\n",
       " array(-106183.84, dtype=float32),\n",
       " array(-106816.484, dtype=float32),\n",
       " array(-107460.91, dtype=float32),\n",
       " array(-108106.38, dtype=float32),\n",
       " array(-108752.016, dtype=float32),\n",
       " array(-109408.51, dtype=float32),\n",
       " array(-110066.05, dtype=float32),\n",
       " array(-110721.4, dtype=float32),\n",
       " array(-111395.96, dtype=float32),\n",
       " array(-112067.125, dtype=float32),\n",
       " array(-112738.445, dtype=float32),\n",
       " array(-113422.195, dtype=float32),\n",
       " array(-114103.32, dtype=float32),\n",
       " array(-114793.85, dtype=float32),\n",
       " array(-115487.945, dtype=float32),\n",
       " array(-116189.01, dtype=float32),\n",
       " array(-116891.58, dtype=float32),\n",
       " array(-117595.91, dtype=float32),\n",
       " array(-118308.016, dtype=float32),\n",
       " array(-119024.25, dtype=float32),\n",
       " array(-119748.62, dtype=float32),\n",
       " array(-120478.336, dtype=float32),\n",
       " array(-121201.305, dtype=float32),\n",
       " array(-121949.01, dtype=float32),\n",
       " array(-122689.7, dtype=float32),\n",
       " array(-123438.52, dtype=float32),\n",
       " array(-124185.02, dtype=float32),\n",
       " array(-124940.51, dtype=float32),\n",
       " array(-125706.16, dtype=float32),\n",
       " array(-126469.3, dtype=float32),\n",
       " array(-127244.63, dtype=float32),\n",
       " array(-128027.59, dtype=float32),\n",
       " array(-128807.516, dtype=float32),\n",
       " array(-129603.26, dtype=float32),\n",
       " array(-130395.484, dtype=float32),\n",
       " array(-131195.67, dtype=float32),\n",
       " array(-131994.45, dtype=float32),\n",
       " array(-132804.16, dtype=float32),\n",
       " array(-133621.31, dtype=float32),\n",
       " array(-134452.3, dtype=float32),\n",
       " array(-135274.83, dtype=float32),\n",
       " array(-136110.67, dtype=float32),\n",
       " array(-136956.39, dtype=float32),\n",
       " array(-137805.05, dtype=float32),\n",
       " array(-138641.23, dtype=float32),\n",
       " array(-139502.14, dtype=float32),\n",
       " array(-140369.73, dtype=float32),\n",
       " array(-141235.05, dtype=float32),\n",
       " array(-142112.84, dtype=float32),\n",
       " array(-142998.33, dtype=float32),\n",
       " array(-143880.03, dtype=float32),\n",
       " array(-144781.81, dtype=float32),\n",
       " array(-145684.06, dtype=float32),\n",
       " array(-146577.7, dtype=float32),\n",
       " array(-147494.39, dtype=float32),\n",
       " array(-148417.4, dtype=float32),\n",
       " array(-149348.84, dtype=float32),\n",
       " array(-150269.7, dtype=float32),\n",
       " array(-151210.14, dtype=float32),\n",
       " array(-152163.2, dtype=float32),\n",
       " array(-153113.25, dtype=float32),\n",
       " array(-154066.86, dtype=float32),\n",
       " array(-155035.39, dtype=float32),\n",
       " array(-156008.98, dtype=float32),\n",
       " array(-156986.78, dtype=float32),\n",
       " array(-157968.6, dtype=float32),\n",
       " array(-158978.61, dtype=float32),\n",
       " array(-159976.42, dtype=float32),\n",
       " array(-160986.44, dtype=float32),\n",
       " array(-162002.73, dtype=float32),\n",
       " array(-163015., dtype=float32),\n",
       " array(-164051.77, dtype=float32),\n",
       " array(-165092.61, dtype=float32),\n",
       " array(-166136.36, dtype=float32),\n",
       " array(-167177.52, dtype=float32),\n",
       " array(-168251.8, dtype=float32),\n",
       " array(-169325.34, dtype=float32),\n",
       " array(-170405.69, dtype=float32),\n",
       " array(-171479.14, dtype=float32),\n",
       " array(-172575.77, dtype=float32),\n",
       " array(-173673.62, dtype=float32),\n",
       " array(-174781.6, dtype=float32),\n",
       " array(-175906.42, dtype=float32),\n",
       " array(-177026.53, dtype=float32),\n",
       " array(-178155.61, dtype=float32),\n",
       " array(-179299.3, dtype=float32),\n",
       " array(-180445.77, dtype=float32),\n",
       " array(-181601.3, dtype=float32)]"
      ]
     },
     "execution_count": 174,
     "metadata": {},
     "output_type": "execute_result"
    }
   ],
   "source": [
    "loss_history"
   ]
  },
  {
   "cell_type": "code",
   "execution_count": 83,
   "metadata": {},
   "outputs": [
    {
     "data": {
      "text/plain": [
       "Parameter containing:\n",
       "tensor([[nan, nan, nan, nan, nan],\n",
       "        [nan, nan, nan, nan, nan],\n",
       "        [nan, nan, nan, nan, nan],\n",
       "        ...,\n",
       "        [nan, nan, nan, nan, nan],\n",
       "        [nan, nan, nan, nan, nan],\n",
       "        [nan, nan, nan, nan, nan]], requires_grad=True)"
      ]
     },
     "execution_count": 83,
     "metadata": {},
     "output_type": "execute_result"
    }
   ],
   "source": [
    "fld.W_fld"
   ]
  }
 ],
 "metadata": {
  "interpreter": {
   "hash": "205d50f58f82a2b4d9ed38d5fc136ab30afd6ca8c2e73e92b6068ffbf36380d0"
  },
  "kernelspec": {
   "display_name": "Python 3.8.12 64-bit ('ml': conda)",
   "language": "python",
   "name": "python3"
  },
  "language_info": {
   "codemirror_mode": {
    "name": "ipython",
    "version": 3
   },
   "file_extension": ".py",
   "mimetype": "text/x-python",
   "name": "python",
   "nbconvert_exporter": "python",
   "pygments_lexer": "ipython3",
   "version": "3.8.12"
  },
  "orig_nbformat": 4
 },
 "nbformat": 4,
 "nbformat_minor": 2
}
